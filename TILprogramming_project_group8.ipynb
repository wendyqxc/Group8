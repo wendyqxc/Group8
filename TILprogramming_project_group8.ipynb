{
 "cells": [
  {
   "cell_type": "markdown",
   "metadata": {},
   "source": [
    "# Project Group 8\n",
    "\n",
    "Members & student numbers:\n",
    "- Ioan Birgaoanu-Acaei (4545249)\n",
    "- Fleur Cauwels (5316154)\n",
    "- Maartje Vennegoor (5375894)\n",
    "- Pip Busser (5253993)\n",
    "- Wendy Chi (5340942)   "
   ]
  },
  {
   "cell_type": "markdown",
   "metadata": {},
   "source": [
    "# 1. Introduction\n",
    "\n",
    "COVID-19 is the infectious disease that emerged at the end of 2019. Its consequences were visible in the Netherlands from January 2020 until May 2022. As a result, the government introduced measures such as keeping 1.5 meters distance, wearing face masks, encouraging people to work from home as much as possible, banning contact professions, and closing schools. The latter are measures that influence people’s travel behavior. During the pandemic, people more often chose walking, cycling, or driving a car instead of crowded trains or buses.\n",
    "\n",
    "This project investigates how the travel behavior of Dutch people has changed after the pandemic compared to before the pandemic. The research zooms in on public transport use versus car use between urban and rural regions. It looks at changes in trip frequency, distance, and purpose. Furthermore, it examines the role of remote work and digitalization. This question is important because transport systems and road capacity are planned years in advance. This research provides insights into which shifts caused by the pandemic persist across different population groups. As a result, the government gained a better understanding to optimize the Dutch infrastructure with respect to roads and railways."
   ]
  },
  {
   "cell_type": "markdown",
   "metadata": {},
   "source": [
    "# 2. Research Objective\n",
    "\n",
    "**“How did the COVID-19 pandemic reshape travel behaviour in urban versus rural regions of the Netherlands?”**\n",
    "\n",
    "The main objective of this research is to examine whether COVID-19 influenced the travel behaviour of Dutch citizens. To capture this potential impact, we will compare data from 2019 (pre-pandemic) with data from 2023 (post-pandemic). By contrasting these two periods, we aim to identify whether travel patterns have shifted as a result of COVID-19.\n",
    "To refine the analysis, a distinction is made between two segments of the Dutch population: residents of urban areas and those in rural areas. This division is particularly relevant, as the spatial context strongly shapes mobility patterns. In urban areas, higher population density and closer proximity of facilities often lead to shorter and more frequent trips, while in rural areas longer distances between destinations typically result in different travel needs and behaviours. Comparing these two contexts provides insights into how the pandemic may have reshaped travel behaviour across varying spatial environments.\n",
    "\n",
    "This research does not distinguish between different modes of transport, but instead analyses overall travel behaviour. This approach is chosen because the available datasets only allow for reliable measurement of total mobility, rather than separate modal splits.\n",
    "\n",
    "**Sub objectives:** \n",
    "1. Is there a difference in the average distance travelled per trip on each day of the week between urban and rural residents in 2019 and 2023?\n",
    "2. Is there a difference in the motives for travel (work versus leisure) between urban and rural residents of the Netherlands in 2019 and 2023?\n",
    "\n",
    "We include the sub-questions above because these perspectives capture important distinctions in travel behaviour that help answer the main research question. Travel behaviour often differs between weekdays and weekends, as weekdays are usually linked to work or school and weekends more to leisure. Looking at these patterns helps to see how routines may have changed between 2019 and 2023. Travel motives can further explain these changes, since the pandemic led to more working from home, which likely reduced commuting and shifted the balance between work- and leisure-related trips. Studying these aspects for urban and rural residents shows whether the impact of COVID-19 differed across contexts."
   ]
  },
  {
   "cell_type": "markdown",
   "metadata": {},
   "source": [
    "## 3. Datasets\n",
    "\n",
    "**Datafile 1**\n",
    "\n",
    "Data file 1 provides information categorized by degree of urbanization. It includes data on transport mode usage, broken down by day of the week and by travel motives. The data can be found throughout the years of 2019 to 2023.\n",
    "https://opendata.cbs.nl/statline/#/CBS/nl/dataset/85055NED/table?ts=1759410636287  "
   ]
  },
  {
   "cell_type": "markdown",
   "metadata": {},
   "source": [
    "# 4. Contribution Statement"
   ]
  },
  {
   "cell_type": "markdown",
   "metadata": {},
   "source": [
    "**Ioan Birgaoanu-Acaei**:\n",
    "- Background research\n",
    "- Introduction\n",
    "\n",
    "**Fleur Cauwels**:\n",
    "- Background research\n",
    "- Refining proposal\n",
    "\n",
    "**Maartje Vennegoor**:\n",
    "- Background research\n",
    "- Research objective\n",
    "\n",
    "**Pip Busser**:\n",
    "- Background research\n",
    "- Research Objective\n",
    "\n",
    "**Wendy Chi**:\n",
    "- Background research \n",
    "- Organise files and set up GitHub "
   ]
  },
  {
   "cell_type": "markdown",
   "metadata": {},
   "source": [
    "# 5. Data Pipeline"
   ]
  },
  {
   "cell_type": "markdown",
   "metadata": {},
   "source": []
  }
 ],
 "metadata": {
  "kernelspec": {
   "display_name": "Python 3",
   "language": "python",
   "name": "python3"
  },
  "language_info": {
   "name": "python",
   "version": "3.8.2"
  },
  "orig_nbformat": 4,
  "vscode": {
   "interpreter": {
    "hash": "31f2aee4e71d21fbe5cf8b01ff0e069b9275f58929596ceb00d14d90e3e16cd6"
   }
  }
 },
 "nbformat": 4,
 "nbformat_minor": 2
}
