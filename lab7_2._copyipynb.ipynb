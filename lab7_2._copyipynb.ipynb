{
 "cells": [
  {
   "cell_type": "markdown",
   "id": "b6706545",
   "metadata": {},
   "source": [
    "# Lab 7: Versioning 2"
   ]
  },
  {
   "cell_type": "markdown",
   "id": "2deaa5af",
   "metadata": {},
   "source": [
    "In this task, you will set up your own working repository as a group, work in separate branches and then merge your changes together.\n",
    "\n",
    "### Make the repository\n",
    "- Find your group\n",
    "- Nominate one person to create a new repository. To do this, follow the instructions [here](https://docs.github.com/en/repositories/creating-and-managing-repositories/creating-a-new-repository)\n",
    "- For your repository, keep all the default settings\n",
    "- Upload a copy of this notebook into the repo.\n",
    "- Provide a link to the repo in part 1 of the lab. Make sure this link can be found in your personal assignment repository."
   ]
  },
  {
   "cell_type": "markdown",
   "id": "51611ef0",
   "metadata": {},
   "source": [
    "\n",
    "### Clone repository onto local devices\n",
    "\n",
    "Now that the repository exists on Github, everyone in the group should clone it and create a branch on their local computers. \n",
    "You can find links to the instructions in README.md"
   ]
  },
  {
   "cell_type": "markdown",
   "id": "d3a11c84",
   "metadata": {},
   "source": [
    "### Create branches\n",
    "- Create your own branch. Name it the same as your Github username.\n",
    "- This includes the repository owner!\n",
    "\n",
    "### Make local changes\n",
    "\n",
    "Work individually on the coding exercises below.\n",
    "When you try to merge your changes, you may run into some merge conflicts as your groupmates make different edits than you.\n",
    "Check [here](https://code.visualstudio.com/docs/sourcecontrol/overview) if you need some help in solving these conflicts. Many conflicts can also be prevented by using good practices when working together, such as merging and pulling often and working on different lines."
   ]
  },
  {
   "cell_type": "code",
   "execution_count": null,
   "id": "8104ed78",
   "metadata": {
    "vscode": {
     "languageId": "plaintext"
    }
   },
   "outputs": [],
   "source": [
    "# Add yourself to this contributor list:\n",
    "\n",
    "contributors = [### YOUR NAME HERE ###]\n"
   ]
  },
  {
   "cell_type": "code",
   "execution_count": null,
   "id": "42b40b69",
   "metadata": {
    "vscode": {
     "languageId": "plaintext"
    }
   },
   "outputs": [],
   "source": [
    "# Add an entry in this dictionary:\n",
    "\n",
    "favorite_things = {\n",
    "    \"### YOUR NAME HERE ###\": {\n",
    "        \"movie\": ### YOUR CODE HERE ###,\n",
    "        \"food\": ### YOUR CODE HERE ###,\n",
    "        \"animal\": ### YOUR CODE HERE ###\n",
    "    },\n",
    "    \n",
    "    # Add your own entry below this line!\n",
    "}"
   ]
  },
  {
   "cell_type": "code",
   "execution_count": null,
   "id": "f2b66f6a",
   "metadata": {
    "vscode": {
     "languageId": "plaintext"
    }
   },
   "outputs": [],
   "source": [
    "# Add a joke into the joke library:\n",
    "\n",
    "jokes = [\n",
    "    \"There are 10 kinds of people in the world: those who understand binary, and those who don't.\",\n",
    "    # Add your joke here!\n",
    "]"
   ]
  },
  {
   "cell_type": "markdown",
   "id": "0ee60dca",
   "metadata": {},
   "source": [
    "### Merge into the original branch\n",
    "\n",
    "- Commit, push and sync your changes using the VS Code Github interface.\n",
    "- Create merge requests into the main branch. \n",
    "- The repository owner will have to approve these requests to merge them."
   ]
  }
 ],
 "metadata": {
  "language_info": {
   "name": "python"
  }
 },
 "nbformat": 4,
 "nbformat_minor": 5
}
